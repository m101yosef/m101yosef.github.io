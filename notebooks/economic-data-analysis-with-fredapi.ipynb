{
 "cells": [
  {
   "cell_type": "markdown",
   "id": "b7592561",
   "metadata": {
    "papermill": {
     "duration": 0.00352,
     "end_time": "2023-11-02T09:07:38.879368",
     "exception": false,
     "start_time": "2023-11-02T09:07:38.875848",
     "status": "completed"
    },
    "tags": []
   },
   "source": [
    "<img src=\"https://news.research.stlouisfed.org/wp-content/uploads/2021/03/FINAL-30-years_LG.png\">\n",
    "\n",
    "# Economic Data Analysis with Fred\n",
    "Fred is an economic data website which include a varity of data sources; it's all time series data, financial, and economic data. Beside, they have their own API so there is no need to scrap the website or download csv.\n",
    "\n",
    "\n",
    "**For now**, I don't know what I going to do yet, but I'm exploring the abilities of Fred and its data.\n",
    "\n",
    "<br>"
   ]
  },
  {
   "cell_type": "code",
   "execution_count": 1,
   "id": "d98019ed",
   "metadata": {
    "execution": {
     "iopub.execute_input": "2023-11-02T09:07:38.888453Z",
     "iopub.status.busy": "2023-11-02T09:07:38.887912Z",
     "iopub.status.idle": "2023-11-02T09:07:40.277910Z",
     "shell.execute_reply": "2023-11-02T09:07:40.277279Z"
    },
    "papermill": {
     "duration": 1.396173,
     "end_time": "2023-11-02T09:07:40.279850",
     "exception": false,
     "start_time": "2023-11-02T09:07:38.883677",
     "status": "completed"
    },
    "tags": []
   },
   "outputs": [],
   "source": [
    "# import the essential python libraries\n",
    "import pandas as pd\n",
    "import numpy as np\n",
    "import matplotlib.pyplot as plt\n",
    "import seaborn as sns"
   ]
  },
  {
   "cell_type": "markdown",
   "id": "703871ca",
   "metadata": {
    "papermill": {
     "duration": 0.002805,
     "end_time": "2023-11-02T09:07:40.285909",
     "exception": false,
     "start_time": "2023-11-02T09:07:40.283104",
     "status": "completed"
    },
    "tags": []
   },
   "source": [
    "\n",
    "---\n"
   ]
  },
  {
   "cell_type": "markdown",
   "id": "8f140d61",
   "metadata": {
    "papermill": {
     "duration": 0.002793,
     "end_time": "2023-11-02T09:07:40.291708",
     "exception": false,
     "start_time": "2023-11-02T09:07:40.288915",
     "status": "completed"
    },
    "tags": []
   },
   "source": [
    "# Step 0: Set the API\n",
    "To get my api key, I need to go to [Fred API Keys](https://fred.stlouisfed.org/docs/api/api_key.html) and request an API Key.\n",
    "\n",
    "And to request this key, I need to: \n",
    "1. Register a Fred account using my Google one.\n",
    "2. Enter a simple message explaining what I'm going to do with the API Key.\n",
    "3. Finally, accept the Fred rules.\n",
    "\n",
    "<br>"
   ]
  },
  {
   "cell_type": "code",
   "execution_count": 2,
   "id": "26940ead",
   "metadata": {
    "execution": {
     "iopub.execute_input": "2023-11-02T09:07:40.298769Z",
     "iopub.status.busy": "2023-11-02T09:07:40.298438Z",
     "iopub.status.idle": "2023-11-02T09:07:49.995618Z",
     "shell.execute_reply": "2023-11-02T09:07:49.994969Z"
    },
    "papermill": {
     "duration": 9.702803,
     "end_time": "2023-11-02T09:07:49.997431",
     "exception": false,
     "start_time": "2023-11-02T09:07:40.294628",
     "status": "completed"
    },
    "tags": []
   },
   "outputs": [
    {
     "name": "stdout",
     "output_type": "stream",
     "text": [
      "Collecting fredapi\r\n",
      "  Downloading fredapi-0.5.1-py3-none-any.whl (11 kB)\r\n",
      "Requirement already satisfied: pandas in /opt/conda/lib/python3.10/site-packages (from fredapi) (2.0.3)\r\n",
      "Requirement already satisfied: python-dateutil>=2.8.2 in /opt/conda/lib/python3.10/site-packages (from pandas->fredapi) (2.8.2)\r\n",
      "Requirement already satisfied: pytz>=2020.1 in /opt/conda/lib/python3.10/site-packages (from pandas->fredapi) (2023.3)\r\n",
      "Requirement already satisfied: tzdata>=2022.1 in /opt/conda/lib/python3.10/site-packages (from pandas->fredapi) (2023.3)\r\n",
      "Requirement already satisfied: numpy>=1.21.0 in /opt/conda/lib/python3.10/site-packages (from pandas->fredapi) (1.23.5)\r\n",
      "Requirement already satisfied: six>=1.5 in /opt/conda/lib/python3.10/site-packages (from python-dateutil>=2.8.2->pandas->fredapi) (1.16.0)\r\n",
      "Installing collected packages: fredapi\r\n",
      "Successfully installed fredapi-0.5.1\r\n"
     ]
    }
   ],
   "source": [
    "# installing fredapi\n",
    "!pip install fredapi"
   ]
  },
  {
   "cell_type": "code",
   "execution_count": 3,
   "id": "24c1ae34",
   "metadata": {
    "execution": {
     "iopub.execute_input": "2023-11-02T09:07:50.005872Z",
     "iopub.status.busy": "2023-11-02T09:07:50.005613Z",
     "iopub.status.idle": "2023-11-02T09:07:50.221139Z",
     "shell.execute_reply": "2023-11-02T09:07:50.220536Z"
    },
    "papermill": {
     "duration": 0.22176,
     "end_time": "2023-11-02T09:07:50.223008",
     "exception": false,
     "start_time": "2023-11-02T09:07:50.001248",
     "status": "completed"
    },
    "tags": []
   },
   "outputs": [],
   "source": [
    "# import the API key\n",
    "from fredapi import Fred\n",
    "\n",
    "# I've made mine api key as a secret config variable\n",
    "# but for you but your api key here\n",
    "fred_key = 'put your key here' \n",
    "\n",
    "# but me I gonna get my Kaggle secret api key \n",
    "from kaggle_secrets import UserSecretsClient\n",
    "user_secrets = UserSecretsClient()\n",
    "fred_api = user_secrets.get_secret(\"fred_api\")\n",
    "\n",
    "# Create fred object\n",
    "fred = Fred(api_key=fred_api)\n",
    "\n",
    "# if you want to just use the data, here is it:\n",
    "thedata = pd.read_csv('/kaggle/input/economic-growth-and-unemployment-rate/gdp_and_unemp.csv')"
   ]
  },
  {
   "cell_type": "markdown",
   "id": "2dcbd064",
   "metadata": {
    "papermill": {
     "duration": 0.003205,
     "end_time": "2023-11-02T09:07:50.229827",
     "exception": false,
     "start_time": "2023-11-02T09:07:50.226622",
     "status": "completed"
    },
    "tags": []
   },
   "source": [
    "If you want to make you API as secret on GitHub, [read this](https://www.kaggle.com/discussions/general/441975)\n",
    "\n",
    "And for Kaggle, just go `Add-ons` > `Secrets` and deal with it.\n",
    "\n",
    "---"
   ]
  },
  {
   "cell_type": "markdown",
   "id": "1fcb0846",
   "metadata": {
    "papermill": {
     "duration": 0.003191,
     "end_time": "2023-11-02T09:07:50.236341",
     "exception": false,
     "start_time": "2023-11-02T09:07:50.233150",
     "status": "completed"
    },
    "tags": []
   },
   "source": [
    "# Step 1: Pull the data\n",
    "I'm going to explore the relationship between the growth rate of the economy and the unemployment rate in the last four years since `COVID-19`. \n",
    "\n",
    "\n",
    "**Side Note:**\n",
    "*I do my search on Fred website first, then get the series id and put it here.*"
   ]
  },
  {
   "cell_type": "code",
   "execution_count": 4,
   "id": "fb465a2d",
   "metadata": {
    "execution": {
     "iopub.execute_input": "2023-11-02T09:07:50.244370Z",
     "iopub.status.busy": "2023-11-02T09:07:50.243881Z",
     "iopub.status.idle": "2023-11-02T09:07:51.113474Z",
     "shell.execute_reply": "2023-11-02T09:07:51.112676Z"
    },
    "papermill": {
     "duration": 0.875459,
     "end_time": "2023-11-02T09:07:51.115097",
     "exception": false,
     "start_time": "2023-11-02T09:07:50.239638",
     "status": "completed"
    },
    "tags": []
   },
   "outputs": [
    {
     "data": {
      "text/html": [
       "<div>\n",
       "<style scoped>\n",
       "    .dataframe tbody tr th:only-of-type {\n",
       "        vertical-align: middle;\n",
       "    }\n",
       "\n",
       "    .dataframe tbody tr th {\n",
       "        vertical-align: top;\n",
       "    }\n",
       "\n",
       "    .dataframe thead th {\n",
       "        text-align: right;\n",
       "    }\n",
       "</style>\n",
       "<table border=\"1\" class=\"dataframe\">\n",
       "  <thead>\n",
       "    <tr style=\"text-align: right;\">\n",
       "      <th></th>\n",
       "      <th>Date</th>\n",
       "      <th>GDP</th>\n",
       "      <th>Unemp</th>\n",
       "    </tr>\n",
       "  </thead>\n",
       "  <tbody>\n",
       "    <tr>\n",
       "      <th>0</th>\n",
       "      <td>1967-01-01</td>\n",
       "      <td>844.170</td>\n",
       "      <td>1.6</td>\n",
       "    </tr>\n",
       "    <tr>\n",
       "      <th>1</th>\n",
       "      <td>1967-04-01</td>\n",
       "      <td>848.983</td>\n",
       "      <td>1.6</td>\n",
       "    </tr>\n",
       "  </tbody>\n",
       "</table>\n",
       "</div>"
      ],
      "text/plain": [
       "        Date      GDP  Unemp\n",
       "0 1967-01-01  844.170    1.6\n",
       "1 1967-04-01  848.983    1.6"
      ]
     },
     "execution_count": 4,
     "metadata": {},
     "output_type": "execute_result"
    }
   ],
   "source": [
    "# Based on my needs, here is the data\n",
    "gdp = fred.get_series(series_id='GDP')\n",
    "gdp = pd.DataFrame(gdp)\n",
    "gdp = gdp.reset_index()\n",
    "gdp.columns = ['Date', 'GDP'] \n",
    "\n",
    "unemp = fred.get_series(series_id='U2RATE')\n",
    "unemp = pd.DataFrame(unemp)\n",
    "unemp = unemp.reset_index()\n",
    "unemp.columns = ['Date', 'Unemp']\n",
    "\n",
    "\n",
    "# merge the data\n",
    "merged_data = pd.merge(gdp, unemp, on='Date', how='inner')\n",
    "merged_data.head(2)"
   ]
  },
  {
   "cell_type": "markdown",
   "id": "f1ed718d",
   "metadata": {
    "papermill": {
     "duration": 0.003346,
     "end_time": "2023-11-02T09:07:51.122092",
     "exception": false,
     "start_time": "2023-11-02T09:07:51.118746",
     "status": "completed"
    },
    "tags": []
   },
   "source": [
    "\n",
    "---\n"
   ]
  },
  {
   "cell_type": "markdown",
   "id": "63923bdd",
   "metadata": {
    "papermill": {
     "duration": 0.003303,
     "end_time": "2023-11-02T09:07:51.128892",
     "exception": false,
     "start_time": "2023-11-02T09:07:51.125589",
     "status": "completed"
    },
    "tags": []
   },
   "source": [
    "# Step 2: Explore the relationship\n",
    "Now we have a dataframe with three features; `Date`, `GDP` Gross Domestic Product (Billions of Dollars), and `Unemp` Unemployment Rate (Percent)."
   ]
  },
  {
   "cell_type": "code",
   "execution_count": 5,
   "id": "59fdc6fe",
   "metadata": {
    "execution": {
     "iopub.execute_input": "2023-11-02T09:07:51.136795Z",
     "iopub.status.busy": "2023-11-02T09:07:51.136553Z",
     "iopub.status.idle": "2023-11-02T09:07:51.148139Z",
     "shell.execute_reply": "2023-11-02T09:07:51.147383Z"
    },
    "papermill": {
     "duration": 0.017273,
     "end_time": "2023-11-02T09:07:51.149589",
     "exception": false,
     "start_time": "2023-11-02T09:07:51.132316",
     "status": "completed"
    },
    "tags": []
   },
   "outputs": [
    {
     "data": {
      "text/html": [
       "<div>\n",
       "<style scoped>\n",
       "    .dataframe tbody tr th:only-of-type {\n",
       "        vertical-align: middle;\n",
       "    }\n",
       "\n",
       "    .dataframe tbody tr th {\n",
       "        vertical-align: top;\n",
       "    }\n",
       "\n",
       "    .dataframe thead th {\n",
       "        text-align: right;\n",
       "    }\n",
       "</style>\n",
       "<table border=\"1\" class=\"dataframe\">\n",
       "  <thead>\n",
       "    <tr style=\"text-align: right;\">\n",
       "      <th></th>\n",
       "      <th>Date</th>\n",
       "      <th>GDP</th>\n",
       "      <th>Unemp</th>\n",
       "    </tr>\n",
       "  </thead>\n",
       "  <tbody>\n",
       "    <tr>\n",
       "      <th>208</th>\n",
       "      <td>2019-01-01</td>\n",
       "      <td>21104.133</td>\n",
       "      <td>1.9</td>\n",
       "    </tr>\n",
       "    <tr>\n",
       "      <th>209</th>\n",
       "      <td>2019-04-01</td>\n",
       "      <td>21384.775</td>\n",
       "      <td>1.7</td>\n",
       "    </tr>\n",
       "    <tr>\n",
       "      <th>210</th>\n",
       "      <td>2019-07-01</td>\n",
       "      <td>21694.282</td>\n",
       "      <td>1.7</td>\n",
       "    </tr>\n",
       "    <tr>\n",
       "      <th>211</th>\n",
       "      <td>2019-10-01</td>\n",
       "      <td>21902.390</td>\n",
       "      <td>1.7</td>\n",
       "    </tr>\n",
       "    <tr>\n",
       "      <th>212</th>\n",
       "      <td>2020-01-01</td>\n",
       "      <td>21706.513</td>\n",
       "      <td>1.6</td>\n",
       "    </tr>\n",
       "  </tbody>\n",
       "</table>\n",
       "</div>"
      ],
      "text/plain": [
       "          Date        GDP  Unemp\n",
       "208 2019-01-01  21104.133    1.9\n",
       "209 2019-04-01  21384.775    1.7\n",
       "210 2019-07-01  21694.282    1.7\n",
       "211 2019-10-01  21902.390    1.7\n",
       "212 2020-01-01  21706.513    1.6"
      ]
     },
     "execution_count": 5,
     "metadata": {},
     "output_type": "execute_result"
    }
   ],
   "source": [
    "# define the time period from 2019 to 2023\n",
    "merged_data['Date'] = pd.to_datetime(merged_data['Date'])\n",
    "df = merged_data[(merged_data['Date'] >= '2019-01-01') & (merged_data['Date'] <= '2023-12-31')]\n",
    "df.head()"
   ]
  },
  {
   "cell_type": "code",
   "execution_count": 6,
   "id": "d39fac06",
   "metadata": {
    "execution": {
     "iopub.execute_input": "2023-11-02T09:07:51.157708Z",
     "iopub.status.busy": "2023-11-02T09:07:51.157455Z",
     "iopub.status.idle": "2023-11-02T09:07:51.591201Z",
     "shell.execute_reply": "2023-11-02T09:07:51.590389Z"
    },
    "papermill": {
     "duration": 0.439736,
     "end_time": "2023-11-02T09:07:51.592965",
     "exception": false,
     "start_time": "2023-11-02T09:07:51.153229",
     "status": "completed"
    },
    "tags": []
   },
   "outputs": [
    {
     "data": {
      "image/png": "[encoded data removed]",
      "text/plain": [
       "<Figure size 1000x600 with 2 Axes>"
      ]
     },
     "metadata": {},
     "output_type": "display_data"
    }
   ],
   "source": [
    "# Create a figure and axis\n",
    "fig, ax1 = plt.subplots(figsize=(10, 6))\n",
    "\n",
    "# Plot GDP on the left y-axis\n",
    "ax1.plot(df['Date'], df['GDP'], color='b', marker='o', label='GDP (Billions of Dollars)')\n",
    "ax1.set_xlabel('Date')\n",
    "ax1.set_ylabel('GDP (Billions of Dollars)', color='b')\n",
    "ax1.tick_params(axis='y', labelcolor='b')\n",
    "\n",
    "# Create a second y-axis on the right\n",
    "ax2 = ax1.twinx()\n",
    "\n",
    "# Plot Unemployment Rate on the right y-axis\n",
    "ax2.plot(df['Date'], df['Unemp'], color='r', marker='x', label='Unemployment Rate (%)')\n",
    "ax2.set_ylabel('Unemployment Rate (%)', color='r')\n",
    "ax2.tick_params(axis='y', labelcolor='r')\n",
    "\n",
    "# Set titles and legend\n",
    "plt.title('GDP and Unemployment Rate Since COVID-19')\n",
    "plt.legend(loc='upper left', fontsize='medium')\n",
    "\n",
    "# Show the plot\n",
    "plt.grid(True)\n",
    "plt.show()\n"
   ]
  },
  {
   "cell_type": "markdown",
   "id": "067162ff",
   "metadata": {
    "papermill": {
     "duration": 0.004101,
     "end_time": "2023-11-02T09:07:51.601533",
     "exception": false,
     "start_time": "2023-11-02T09:07:51.597432",
     "status": "completed"
    },
    "tags": []
   },
   "source": [
    "That's all ..\n",
    "\n",
    "### **Project Conclusion:**\n",
    "\n",
    "As anticipated, our analysis reveals a clear relationship between unemployment rates and GDP fluctuations. Notably, during the challenging year of 2020, when unemployment rates surged, we observed a corresponding decline in GDP. \n",
    "\n",
    "This observation underscores a fundamental economic principle: \"With lower unemployment rates, we are more likely to achieve higher gross domestic product (GDP).\" "
   ]
  },
  {
   "cell_type": "markdown",
   "id": "c1646363",
   "metadata": {
    "papermill": {
     "duration": 0.004056,
     "end_time": "2023-11-02T09:07:51.609870",
     "exception": false,
     "start_time": "2023-11-02T09:07:51.605814",
     "status": "completed"
    },
    "tags": []
   },
   "source": [
    "<hr>\n",
    "\n",
    "# Resources\n",
    "(1) The first inspiration to even work with Fred API was [Rob Mulla YouTube video about Economic Data Analysis](https://www.kaggle.com/code/robikscube/economic-analysis-with-pandas-youtube-tutorial/notebook)\n",
    "\n",
    "(2) How to [make you API key as a secret](https://www.kaggle.com/discussions/general/441975) - I put it on a Kaggle discussion\n",
    "\n",
    "(3) Basic economics concepts on [Khan Academy](https://www.khanacademy.org/economics-finance-domain/macroeconomics/macro-basic-economics-concepts)\n",
    "\n",
    "(4) The hero of the project without a doubt is the data; here is the [GDP series](https://fred.stlouisfed.org/series/GDP) and the [Unemployment rate series](https://fred.stlouisfed.org/series/U2RATE)"
   ]
  },
  {
   "cell_type": "markdown",
   "id": "ec1a50af",
   "metadata": {
    "papermill": {
     "duration": 0.004089,
     "end_time": "2023-11-02T09:07:51.618161",
     "exception": false,
     "start_time": "2023-11-02T09:07:51.614072",
     "status": "completed"
    },
    "tags": []
   },
   "source": [
    "<div><br></div>\n",
    "\n",
    "---\n",
    "\n",
    "* 💼 For more, take a look at my work on **[GitHub](https://github.com/mohamedyosef101)**\n",
    "* 💬 And, if you have any questions, feel free to contact me via **[email](mailto:mohamedyosef101@outlook.com)** or **[LinkedIn](https://linkedin.com/in/mohamedyosef101)**."
   ]
  }
 ],
 "metadata": {
  "kernelspec": {
   "display_name": "Python 3",
   "language": "python",
   "name": "python3"
  },
  "language_info": {
   "codemirror_mode": {
    "name": "ipython",
    "version": 3
   },
   "file_extension": ".py",
   "mimetype": "text/x-python",
   "name": "python",
   "nbconvert_exporter": "python",
   "pygments_lexer": "ipython3",
   "version": "3.10.12"
  },
  "papermill": {
   "default_parameters": {},
   "duration": 15.478961,
   "end_time": "2023-11-02T09:07:51.939414",
   "environment_variables": {},
   "exception": null,
   "input_path": "__notebook__.ipynb",
   "output_path": "__notebook__.ipynb",
   "parameters": {},
   "start_time": "2023-11-02T09:07:36.460453",
   "version": "2.4.0"
  }
 },
 "nbformat": 4,
 "nbformat_minor": 5
}
